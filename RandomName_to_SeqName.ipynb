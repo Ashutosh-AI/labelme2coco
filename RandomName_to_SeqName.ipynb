{
 "cells": [
  {
   "cell_type": "code",
   "execution_count": 28,
   "metadata": {},
   "outputs": [],
   "source": [
    "import os\n",
    "\n",
    "def rename_files(directory):\n",
    "    i = 0\n",
    "    for filename in os.listdir(directory):\n",
    "        old_name = os.path.join(directory, filename)\n",
    "        new_name = os.path.join(directory, filename.replace(filename, str(i) + \".jpg\"))\n",
    "        os.rename(old_name, new_name)\n",
    "        i += 1\n",
    "\n",
    "if __name__ == \"__main__\":\n",
    "  directory = \"C:/Users/user/Downloads/Resume_Dataset/valid/images/\"\n",
    "  rename_files(directory)"
   ]
  },
  {
   "cell_type": "code",
   "execution_count": 1,
   "metadata": {},
   "outputs": [],
   "source": [
    "import os"
   ]
  },
  {
   "cell_type": "code",
   "execution_count": 23,
   "metadata": {},
   "outputs": [],
   "source": [
    "directory = \"C:/Users/user/Downloads/Resume_Dataset/test/labels/\"\n",
    "files = os.listdir(directory)\n",
    "i = 0\n",
    "for file in files:\n",
    "    old_name = os.path.join(directory, file)\n",
    "    new_name = os.path.join(directory, file.replace(file, str(i) + \".txt\"))\n",
    "    #z = file.replace(file, str(i) + \".txt\")\n",
    "    i+=1\n",
    "    os.rename(old_name, new_name)\n",
    "    #print(file)"
   ]
  },
  {
   "cell_type": "code",
   "execution_count": null,
   "metadata": {},
   "outputs": [],
   "source": []
  }
 ],
 "metadata": {
  "kernelspec": {
   "display_name": "Python 3",
   "language": "python",
   "name": "python3"
  },
  "language_info": {
   "codemirror_mode": {
    "name": "ipython",
    "version": 3
   },
   "file_extension": ".py",
   "mimetype": "text/x-python",
   "name": "python",
   "nbconvert_exporter": "python",
   "pygments_lexer": "ipython3",
   "version": "3.6.13"
  }
 },
 "nbformat": 4,
 "nbformat_minor": 2
}
